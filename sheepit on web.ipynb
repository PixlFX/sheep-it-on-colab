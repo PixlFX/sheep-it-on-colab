{
  "nbformat": 4,
  "nbformat_minor": 0,
  "metadata": {
    "colab": {
      "name": "sheepit on web.ipynb",
      "provenance": [],
      "collapsed_sections": []
    },
    "kernelspec": {
      "name": "python3",
      "display_name": "Python 3"
    },
    "accelerator": "GPU"
  },
  "cells": [
    {
      "cell_type": "markdown",
      "metadata": {
        "id": "JeNg1Yj8c-Xx"
      },
      "source": [
        "Get Dependencies"
      ]
    },
    {
      "cell_type": "code",
      "metadata": {
        "id": "q2aL4cibbWui"
      },
      "source": [
        "!apt-get install java-common default-jre-headless ffmpeg\n",
        "!wget https://www.sheepit-renderfarm.com/media/applet/sheepit-client-6.20304.0.jar\n",
        "\n",
        "import os\n",
        "\n",
        "os.environ[\"LD_PRELOAD\"] = \"\"\n",
        "\n",
        "!apt update\n",
        "!apt remove libtcmalloc-minimal4\n",
        "!apt install libtcmalloc-minimal4\n",
        "os.environ[\"LD_PRELOAD\"] = \"/usr/lib/x86_64-linux-gnu/libtcmalloc_minimal.so.4.3.0\"\n",
        "\n",
        "!echo $LD_PRELOAD\n",
        "\n",
        "!apt install libboost-all-dev\n",
        "!apt install libgl1-mesa-dev\n",
        "!apt install libglu1-mesa libsm-dev"
      ],
      "execution_count": null,
      "outputs": []
    },
    {
      "cell_type": "markdown",
      "metadata": {
        "id": "oC3OE5XqyJPr"
      },
      "source": [
        "Enter you username and public key (can be found under profile>keys)\n",
        "You have to run this block also"
      ]
    },
    {
      "cell_type": "code",
      "metadata": {
        "id": "HvfliuWddB2H"
      },
      "source": [
        "#@title Setup\n",
        "#@markdown Enter some dogshit \n",
        "username = \"\" #@param {type: \"string\"}\n",
        "key = \"\" #@param {type: \"string\"}\n",
        "computemethod = \"CPU\" #@param [\"GPU\", \"CPU\"] {allow-input: false}\n",
        "\n",
        "#@markdown ---"
      ],
      "execution_count": 9,
      "outputs": []
    },
    {
      "cell_type": "markdown",
      "metadata": {
        "id": "3rYxBLeaeSA2"
      },
      "source": [
        "# **Run this to start**"
      ]
    },
    {
      "cell_type": "code",
      "metadata": {
        "id": "KbE3Ex53eX0J"
      },
      "source": [
        "if computemethod == \"CPU\":\n",
        "    !java -jar sheepit-client-6.20304.0.jar -ui oneLine/text -cache-dir /content/cache -compute-method $computemethod -login $username -password $key -ui text\n",
        "else:\n",
        "    !java -jar sheepit-client-6.20304.0.jar -ui oneLine/text -cache-dir /content/cache -compute-method GPU -gpu CUDA_0 -login $username -password $key -ui text"
      ],
      "execution_count": null,
      "outputs": []
    }
  ]
}